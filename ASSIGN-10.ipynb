{
 "cells": [
  {
   "cell_type": "markdown",
   "id": "4a82ffbd-e9bf-473b-a73c-40531a52f75c",
   "metadata": {},
   "source": [
    "## Q1, Create a vehicle class with an init method having instance variables as name_of_vehicle, max_speed and average_of_vehicle?"
   ]
  },
  {
   "cell_type": "code",
   "execution_count": 1,
   "id": "fad10817-f3c5-410a-bf06-4edbddb75857",
   "metadata": {},
   "outputs": [],
   "source": [
    "# ANS\n",
    "class Vehicle:\n",
    "    def __init__(self, name, max_speed, avg_speed):\n",
    "        self.name_of_vehicle = name\n",
    "        self.max_speed = max_speed\n",
    "        self.average_of_vehicle = avg_speed\n"
   ]
  },
  {
   "cell_type": "code",
   "execution_count": 2,
   "id": "12f78cfd-2fd5-47da-8f72-e7d4631a1e6a",
   "metadata": {},
   "outputs": [
    {
     "name": "stdout",
     "output_type": "stream",
     "text": [
      "Toyota\n",
      "200\n",
      "80\n"
     ]
    }
   ],
   "source": [
    "car = Vehicle(\"Toyota\", 200, 80)\n",
    "print(car.name_of_vehicle)       \n",
    "print(car.max_speed)             \n",
    "print(car.average_of_vehicle)    \n"
   ]
  },
  {
   "cell_type": "markdown",
   "id": "3da44cec-8d4d-44ac-a4bb-c4f1edf40aa2",
   "metadata": {},
   "source": [
    "## Q2. Create a child class car from the vehicle class created in Que 1, which will inherit the vehicle class.\n",
    "## Create a method named seating_capacity which takes capacity as an argument and returns the name of\n",
    "## the vehicle and its seating capacity?"
   ]
  },
  {
   "cell_type": "code",
   "execution_count": 3,
   "id": "365385a6-8cdf-4d4e-bea2-b73ff9a24053",
   "metadata": {},
   "outputs": [],
   "source": [
    "# ANS\n",
    "class Car(Vehicle):\n",
    "    def seating_capacity(self, capacity):\n",
    "        return f\"{self.name_of_vehicle} has a seating capacity of {capacity} people.\"\n"
   ]
  },
  {
   "cell_type": "code",
   "execution_count": 4,
   "id": "eeded4df-0b52-4b62-b211-331e3696b38b",
   "metadata": {},
   "outputs": [
    {
     "name": "stdout",
     "output_type": "stream",
     "text": [
      "Toyota has a seating capacity of 5 people.\n"
     ]
    }
   ],
   "source": [
    "car = Car(\"Toyota\", 200, 80)\n",
    "print(car.seating_capacity(5))   \n"
   ]
  },
  {
   "cell_type": "markdown",
   "id": "3ab87f8b-8553-4d3c-82df-e6079a272d3f",
   "metadata": {},
   "source": [
    "## Q3. What is multiple inheritance? Write a python code to demonstrate multiple inheritance ?"
   ]
  },
  {
   "cell_type": "markdown",
   "id": "10e35d2b-d3b4-446a-a5ca-8390157c445c",
   "metadata": {},
   "source": [
    "Multiple inheritance is a feature in object-oriented programming where a class can inherit properties and methods from multiple parent classes. In Python, a child class can inherit from multiple parent classes by listing them in the class definition, separated by commas."
   ]
  },
  {
   "cell_type": "code",
   "execution_count": 5,
   "id": "0e3cf2d1-3024-4d30-afa1-6c177cdf79fd",
   "metadata": {},
   "outputs": [
    {
     "name": "stdout",
     "output_type": "stream",
     "text": [
      "This is method 1 from Parent 1\n",
      "This is method 2 from Parent 2\n",
      "This is method 3 from Child\n"
     ]
    }
   ],
   "source": [
    "class Parent1:\n",
    "    def method1(self):\n",
    "        print(\"This is method 1 from Parent 1\")\n",
    "        \n",
    "class Parent2:\n",
    "    def method2(self):\n",
    "        print(\"This is method 2 from Parent 2\")\n",
    "        \n",
    "class Child(Parent1, Parent2):\n",
    "    def method3(self):\n",
    "        print(\"This is method 3 from Child\")\n",
    "        \n",
    "# Create an instance of Child\n",
    "child = Child()\n",
    "\n",
    "# Call methods from Parent1\n",
    "child.method1()\n",
    "\n",
    "# Call methods from Parent2\n",
    "child.method2()\n",
    "\n",
    "# Call method from Child\n",
    "child.method3()\n"
   ]
  },
  {
   "cell_type": "markdown",
   "id": "fdc59143-4eb1-48af-85bb-b4444cae0c56",
   "metadata": {},
   "source": [
    "## Q4. What are getter and setter in python? Create a class and create a getter and a setter method in this class ?"
   ]
  },
  {
   "cell_type": "markdown",
   "id": "8c93ffc7-a373-4e56-b22b-36950eb6f5f7",
   "metadata": {},
   "source": [
    "In Python, a getter and setter are methods used to access and modify the value of an instance variable in a class. They are often used to control access to the instance variables, enforcing some logic or validation before allowing the value to be accessed or set."
   ]
  },
  {
   "cell_type": "code",
   "execution_count": 6,
   "id": "d9dc3460-0113-4a1e-84a6-c0f80e7f94db",
   "metadata": {},
   "outputs": [],
   "source": [
    "class Person:\n",
    "    def __init__(self, name):\n",
    "        self._name = name  # Note the underscore before the variable name to indicate it's a private variable\n",
    "\n",
    "    def get_name(self):\n",
    "        return self._name\n",
    "\n",
    "    def set_name(self, name):\n",
    "        if len(name) < 2:\n",
    "            print(\"Name must be at least 2 characters long.\")\n",
    "        else:\n",
    "            self._name = name\n"
   ]
  },
  {
   "cell_type": "code",
   "execution_count": 7,
   "id": "5220f6cc-44cf-4518-b9e6-a3a95893cfc2",
   "metadata": {},
   "outputs": [
    {
     "name": "stdout",
     "output_type": "stream",
     "text": [
      "Alice\n",
      "Bob\n",
      "Name must be at least 2 characters long.\n"
     ]
    }
   ],
   "source": [
    "person = Person(\"Alice\")\n",
    "print(person.get_name())    \n",
    "\n",
    "person.set_name(\"Bob\")\n",
    "print(person.get_name())    \n",
    "\n",
    "person.set_name(\"A\")    \n"
   ]
  },
  {
   "cell_type": "markdown",
   "id": "0c8f281a-3fa8-4908-8c75-0553f18fbc22",
   "metadata": {},
   "source": [
    "## Q5.What is method overriding in python? Write a python code to demonstrate method overriding ?"
   ]
  },
  {
   "cell_type": "markdown",
   "id": "b1492f6f-1771-490f-a46d-b1c6d901e6ca",
   "metadata": {},
   "source": [
    "Method overriding is a feature of object-oriented programming that allows a child class to provide its own implementation of a method that is already defined in its parent class. When the child class defines a method with the same name and signature as a method in its parent class, the child class's implementation takes precedence over the parent class's implementation."
   ]
  },
  {
   "cell_type": "code",
   "execution_count": 11,
   "id": "6b374da7-ef10-4571-a156-07de4efb0a0c",
   "metadata": {},
   "outputs": [
    {
     "name": "stdout",
     "output_type": "stream",
     "text": [
      "The animal makes a sound\n",
      "Meow\n",
      "Woof\n"
     ]
    }
   ],
   "source": [
    "class Animal:\n",
    "    def make_sound(self):\n",
    "        print(\"The animal makes a sound\")\n",
    "\n",
    "class Cat(Animal):\n",
    "    def make_sound(self):\n",
    "        print(\"Meow\")\n",
    "\n",
    "class Dog(Animal):\n",
    "    def make_sound(self):\n",
    "        print(\"Woof\")\n",
    "\n",
    "animal = Animal()\n",
    "cat = Cat()\n",
    "dog = Dog()\n",
    "\n",
    "animal.make_sound()   \n",
    "cat.make_sound()       \n",
    "dog.make_sound()       \n",
    "\n"
   ]
  },
  {
   "cell_type": "markdown",
   "id": "b445448a-114b-4dd2-9c64-fd911c2e4abe",
   "metadata": {},
   "source": [
    "## THANKS"
   ]
  },
  {
   "cell_type": "code",
   "execution_count": null,
   "id": "95c54843-d553-43e1-bdac-4db7f88de29a",
   "metadata": {},
   "outputs": [],
   "source": []
  }
 ],
 "metadata": {
  "kernelspec": {
   "display_name": "Python 3 (ipykernel)",
   "language": "python",
   "name": "python3"
  },
  "language_info": {
   "codemirror_mode": {
    "name": "ipython",
    "version": 3
   },
   "file_extension": ".py",
   "mimetype": "text/x-python",
   "name": "python",
   "nbconvert_exporter": "python",
   "pygments_lexer": "ipython3",
   "version": "3.10.8"
  }
 },
 "nbformat": 4,
 "nbformat_minor": 5
}
